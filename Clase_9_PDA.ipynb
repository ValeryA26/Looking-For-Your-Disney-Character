{
  "nbformat": 4,
  "nbformat_minor": 0,
  "metadata": {
    "kernelspec": {
      "display_name": "Python 3",
      "language": "python",
      "name": "python3"
    },
    "language_info": {
      "codemirror_mode": {
        "name": "ipython",
        "version": 3
      },
      "file_extension": ".py",
      "mimetype": "text/x-python",
      "name": "python",
      "nbconvert_exporter": "python",
      "pygments_lexer": "ipython3",
      "version": "3.6.2"
    },
    "colab": {
      "name": "Clase_9_PDA.ipynb",
      "provenance": [],
      "collapsed_sections": []
    }
  },
  "cells": [
    {
      "cell_type": "markdown",
      "metadata": {
        "id": "EnteVuA79Wvw",
        "colab_type": "text"
      },
      "source": [
        "# Autómatas a Pila\n",
        "\n",
        "**Autómatas y Lenguajes Formales**\n",
        "\n",
        "**Profesor: Fabio Martínez**\n",
        "\n",
        "**Escuela de Ingeniería de Sistemas e Informática**   "
      ]
    },
    {
      "cell_type": "code",
      "metadata": {
        "id": "EyZ7-YrL9flA",
        "colab_type": "code",
        "colab": {
          "base_uri": "https://localhost:8080/",
          "height": 145
        },
        "outputId": "353a0c06-2848-4332-a448-5e0f2bedb34b"
      },
      "source": [
        "from google.colab import drive\n",
        "drive.mount('/content/drive')\n",
        "!cd /content/drive/'My Drive'/automatas/notebooks && pwd"
      ],
      "execution_count": 1,
      "outputs": [
        {
          "output_type": "stream",
          "text": [
            "Go to this URL in a browser: https://accounts.google.com/o/oauth2/auth?client_id=947318989803-6bn6qk8qdgf4n4g3pfee6491hc0brc4i.apps.googleusercontent.com&redirect_uri=urn%3aietf%3awg%3aoauth%3a2.0%3aoob&response_type=code&scope=email%20https%3a%2f%2fwww.googleapis.com%2fauth%2fdocs.test%20https%3a%2f%2fwww.googleapis.com%2fauth%2fdrive%20https%3a%2f%2fwww.googleapis.com%2fauth%2fdrive.photos.readonly%20https%3a%2f%2fwww.googleapis.com%2fauth%2fpeopleapi.readonly\n",
            "\n",
            "Enter your authorization code:\n",
            "··········\n",
            "Mounted at /content/drive\n",
            "/content/drive/My Drive/automatas/notebooks\n"
          ],
          "name": "stdout"
        }
      ]
    },
    {
      "cell_type": "markdown",
      "metadata": {
        "id": "2R9MutSj9Wv0",
        "colab_type": "text"
      },
      "source": [
        "La librería [automata-lib](https://pypi.python.org/pypi/automata-lib/1.0.0.post3) de python permite trabajar con auotómatas a Pila **(PDA)**. Esta librería hace parte la hemos venido utilizando para la proogramación de autómatas finitos en sus diferentes versiones. En cuanto a los autómatas a Pila, la libreria cambia un poco en su sintaxis para introducir los simbolos de pila en cada una de las transiciones.  \n",
        "\n",
        "##### Primero cargamos las librerias para trabajar con los PDA"
      ]
    },
    {
      "cell_type": "code",
      "metadata": {
        "id": "IeahBbSB95-O",
        "colab_type": "code",
        "colab": {
          "base_uri": "https://localhost:8080/",
          "height": 199
        },
        "outputId": "1305ebe8-45d8-429a-ddfa-02396ed69c38"
      },
      "source": [
        "!pip install automata-lib==1.0.0.post4"
      ],
      "execution_count": 3,
      "outputs": [
        {
          "output_type": "stream",
          "text": [
            "Collecting automata-lib==1.0.0.post4\n",
            "  Downloading https://files.pythonhosted.org/packages/85/a6/b33bb665852d62931130be77afd22f11b00b1e5e03faa2435a2367feeb16/automata-lib-1.0.0.post4.tar.gz\n",
            "Building wheels for collected packages: automata-lib\n",
            "  Building wheel for automata-lib (setup.py) ... \u001b[?25l\u001b[?25hdone\n",
            "  Created wheel for automata-lib: filename=automata_lib-1.0.0.post4-cp36-none-any.whl size=13312 sha256=323da9ff4bdeb2c66ebfbb61523ddd720d52c394434df75f085b420e0cb7c463\n",
            "  Stored in directory: /root/.cache/pip/wheels/47/33/2f/7729b388d6716449b4e2190e9c61e25dd8478360c6bc23e789\n",
            "Successfully built automata-lib\n",
            "Installing collected packages: automata-lib\n",
            "Successfully installed automata-lib-1.0.0.post4\n"
          ],
          "name": "stdout"
        }
      ]
    },
    {
      "cell_type": "code",
      "metadata": {
        "id": "L19VQkG_9Wv2",
        "colab_type": "code",
        "colab": {}
      },
      "source": [
        "from automata.pda.dpda import DPDA"
      ],
      "execution_count": 0,
      "outputs": []
    },
    {
      "cell_type": "markdown",
      "metadata": {
        "id": "hLdt2T-a9Wv9",
        "colab_type": "text"
      },
      "source": [
        "## Ejercicio\n",
        "\n",
        "El siguiente autómata no requiere ser no determinista y tiene la forma $\\enspace L= \\{ \\space a^{n}b^{n} \\space \\mid \\space n \\gt 0 \\space \\}$. \n",
        "\n",
        "### El PDA correspondiente es: $\\enspace P = (\\{q_0, q_1, q_2, q_3 \\}, \\{a,b \\}, \\{0, 1, Z \\}, \\delta, q_0, Z, \\{ q_3 \\})$  \n",
        "\n",
        "El PDA tiene las siguientes funciones de transición: \n",
        "\n",
        "   - $\\delta(q_{0}, a, Z) = \\{ (q_1, 1Z) \\}$\n",
        "   - $\\delta(q_{1}, a, 1) = \\{ (q_1, 11) \\}$\n",
        "   - $\\delta(q_{1}, b, 1) = \\{ (q_2, \\varepsilon) \\}$\n",
        "   - $\\delta(q_{2}, b, 1) = \\{ (q_2, \\varepsilon) \\}$\n",
        "   - $\\delta(q_{2}, \\varepsilon, Z) = \\{ (q_3, Z) \\}$\n",
        "  \n",
        "\n",
        "\n"
      ]
    },
    {
      "cell_type": "code",
      "metadata": {
        "id": "sh58V_699Wv_",
        "colab_type": "code",
        "colab": {}
      },
      "source": [
        "from automata.pda.dpda import DPDA\n",
        "# DPDA which which matches zero or more 'a's, followed by the same\n",
        "# number of 'b's (accepting by final state)\n",
        "dpda = DPDA(\n",
        "    states={'q0', 'q1', 'q2', 'q3'},\n",
        "    input_symbols={'a', 'b'},\n",
        "    stack_symbols={'0', '1', 'Z'},\n",
        "    transitions={\n",
        "        'q0': {\n",
        "            'a': {'Z': ('q1', ('1', 'Z'))}  # transition pushes '1' to stack\n",
        "        },\n",
        "        'q1': {\n",
        "            'a': {'1': ('q1', ('1', '1'))},\n",
        "            'b': {'1': ('q2', '')}  # transition pops from stack\n",
        "        },\n",
        "        'q2': {\n",
        "            'b': {'1': ('q2', '')},\n",
        "            '': {'Z': ('q3', ('Z',))}  # transition does not change stack\n",
        "        }\n",
        "    },\n",
        "    initial_state='q0',\n",
        "    initial_stack_symbol='Z',\n",
        "    final_states={'q3'}\n",
        ")"
      ],
      "execution_count": 0,
      "outputs": []
    },
    {
      "cell_type": "markdown",
      "metadata": {
        "id": "ULCId2P89WwF",
        "colab_type": "text"
      },
      "source": [
        "## Validar las palabras\n",
        "\n",
        "Para validar las palabras del autómata, creamos <i>dpda.validate_input('palabra a evaluar')</i>. De la siguiente forma: "
      ]
    },
    {
      "cell_type": "code",
      "metadata": {
        "id": "iZVUTVnM9WwH",
        "colab_type": "code",
        "colab": {
          "base_uri": "https://localhost:8080/",
          "height": 35
        },
        "outputId": "7bb12668-3387-471b-a84e-41d2a74d5476"
      },
      "source": [
        "dpda.validate_input('aaaaabbbbb')"
      ],
      "execution_count": 7,
      "outputs": [
        {
          "output_type": "execute_result",
          "data": {
            "text/plain": [
              "('q3', PDAStack(['Z']))"
            ]
          },
          "metadata": {
            "tags": []
          },
          "execution_count": 7
        }
      ]
    },
    {
      "cell_type": "markdown",
      "metadata": {
        "id": "RoJgdUMp9WwM",
        "colab_type": "text"
      },
      "source": [
        "Para validar y conocer los valores contenidos en la pila, en cada estado particular del PDA, podemos utilizar el siguiente código. **De esta forma se simula la configuración instantanea**"
      ]
    },
    {
      "cell_type": "code",
      "metadata": {
        "id": "i1vhdtLj9WwO",
        "colab_type": "code",
        "colab": {
          "base_uri": "https://localhost:8080/",
          "height": 215
        },
        "outputId": "f9a738ea-c8b1-42b9-e13c-f1f17d6f7d28"
      },
      "source": [
        "[(state, stack.copy()) for state, stack in dpda.validate_input('aaaaabbbbb', step=True)]"
      ],
      "execution_count": 8,
      "outputs": [
        {
          "output_type": "execute_result",
          "data": {
            "text/plain": [
              "[('q0', PDAStack(['Z'])),\n",
              " ('q1', PDAStack(['Z', '1'])),\n",
              " ('q1', PDAStack(['Z', '1', '1'])),\n",
              " ('q1', PDAStack(['Z', '1', '1', '1'])),\n",
              " ('q1', PDAStack(['Z', '1', '1', '1', '1'])),\n",
              " ('q1', PDAStack(['Z', '1', '1', '1', '1', '1'])),\n",
              " ('q2', PDAStack(['Z', '1', '1', '1', '1'])),\n",
              " ('q2', PDAStack(['Z', '1', '1', '1'])),\n",
              " ('q2', PDAStack(['Z', '1', '1'])),\n",
              " ('q2', PDAStack(['Z', '1'])),\n",
              " ('q3', PDAStack(['Z']))]"
            ]
          },
          "metadata": {
            "tags": []
          },
          "execution_count": 8
        }
      ]
    },
    {
      "cell_type": "markdown",
      "metadata": {
        "id": "kgKh4Xwg9WwW",
        "colab_type": "text"
      },
      "source": [
        "Podemos saber si el código escrito corresponde a un autómata de pila determinista que pueda ser simulado por la libreria"
      ]
    },
    {
      "cell_type": "code",
      "metadata": {
        "id": "_xiPsC5X9WwZ",
        "colab_type": "code",
        "colab": {
          "base_uri": "https://localhost:8080/",
          "height": 35
        },
        "outputId": "305b762e-848a-4510-fe58-a0c96844cd83"
      },
      "source": [
        "DPDA.validate_self(dpda)"
      ],
      "execution_count": 9,
      "outputs": [
        {
          "output_type": "execute_result",
          "data": {
            "text/plain": [
              "True"
            ]
          },
          "metadata": {
            "tags": []
          },
          "execution_count": 9
        }
      ]
    },
    {
      "cell_type": "markdown",
      "metadata": {
        "id": "wuiZMeeW9Wwe",
        "colab_type": "text"
      },
      "source": [
        "La versión original del ejercicio, tomado de la documentación de la libreria __automata-lib__ no cuenta con un simbolo especifico inicial Z. \n",
        "\n",
        "Para el autómata implementado, \"no existe un simbolo inicial\", que es admisible por la libreria. El autómata acepta por estado de aceptación, por lo que no es necesario \"limpiar\" la pila. "
      ]
    },
    {
      "cell_type": "code",
      "metadata": {
        "id": "kJtIb3is9Wwg",
        "colab_type": "code",
        "colab": {}
      },
      "source": [
        "from automata.pda.dpda import DPDA\n",
        "# DPDA which which matches zero or more 'a's, followed by the same\n",
        "# number of 'b's (accepting by final state)\n",
        "dpda = DPDA(\n",
        "    states={'q0', 'q1', 'q2', 'q3'},\n",
        "    input_symbols={'a', 'b'},\n",
        "    stack_symbols={'0', '1'},\n",
        "    transitions={\n",
        "        'q0': {\n",
        "            'a': {'0': ('q1', ('1', '0'))}  # transition pushes '1' to stack\n",
        "        },\n",
        "        'q1': {\n",
        "            'a': {'1': ('q1', ('1', '1'))},\n",
        "            'b': {'1': ('q2', '')}  # transition pops from stack\n",
        "        },\n",
        "        'q2': {\n",
        "            'b': {'1': ('q2', '')},\n",
        "            '': {'0': ('q3', ('0',))}  # transition does not change stack\n",
        "        }\n",
        "    },\n",
        "    initial_state='q0',\n",
        "    initial_stack_symbol='0',\n",
        "    final_states={'q3'}\n",
        ")"
      ],
      "execution_count": 0,
      "outputs": []
    },
    {
      "cell_type": "code",
      "metadata": {
        "id": "yibACsqL9Wwl",
        "colab_type": "code",
        "colab": {}
      },
      "source": [
        "print(dpda.validate_input('aaabbb') )"
      ],
      "execution_count": 0,
      "outputs": []
    },
    {
      "cell_type": "markdown",
      "metadata": {
        "id": "Ed2b5-7W9Wwq",
        "colab_type": "text"
      },
      "source": [
        "Simulación de la Pila"
      ]
    },
    {
      "cell_type": "code",
      "metadata": {
        "id": "8zoEfn3P9Wws",
        "colab_type": "code",
        "colab": {}
      },
      "source": [
        "[(state, stack.copy()) for state, stack in dpda.validate_input('aaaaabbbbb', step=True)]"
      ],
      "execution_count": 0,
      "outputs": []
    },
    {
      "cell_type": "markdown",
      "metadata": {
        "id": "58RLoLBz9Www",
        "colab_type": "text"
      },
      "source": [
        "---\n",
        "## Ejercicio\n",
        "\n",
        "El siguiente autómata no requiere ser no determinista y tiene la forma $\\enspace L= \\{ \\space a^{n}b^{m}a^{n} \\space \\mid \\space m,n \\gt 0 \\space \\}$. "
      ]
    },
    {
      "cell_type": "code",
      "metadata": {
        "id": "IPTq-Kgr9Wwy",
        "colab_type": "code",
        "colab": {}
      },
      "source": [
        "from automata.pda.dpda import DPDA\n",
        "\n",
        "dpda = DPDA(\n",
        "    states={'qa', 'q0', 'q1', 'q2', 'q3'},\n",
        "    input_symbols={'a', 'b'},\n",
        "    stack_symbols={'x', 'Z'},\n",
        "    transitions={\n",
        "        'qa': {\n",
        "            'a': {'Z': ('q0', ('x', 'Z'))}\n",
        "        },\n",
        "        'q0':{\n",
        "            'a': {'x': ('q0', ('x', 'x'))},  \n",
        "            'b': {'x': ('q1', ('x',))}  \n",
        "        },\n",
        "        'q1': {\n",
        "            'a': {'x': ('q2', '')},\n",
        "            'b': {'x': ('q1', ('x',))}  \n",
        "        },\n",
        "        'q2': {\n",
        "            'a': {'x': ('q2', '')},\n",
        "            '': {'Z': ('q3', ('Z',))}  # transition does not change stack\n",
        "        }\n",
        "    },\n",
        "    initial_state='qa',\n",
        "    initial_stack_symbol='Z',\n",
        "    final_states={'q3'}\n",
        ")"
      ],
      "execution_count": 0,
      "outputs": []
    },
    {
      "cell_type": "code",
      "metadata": {
        "id": "IOVusz5u9Ww3",
        "colab_type": "code",
        "colab": {}
      },
      "source": [
        "print(dpda.validate_input('aaabbbaaa') )"
      ],
      "execution_count": 0,
      "outputs": []
    },
    {
      "cell_type": "code",
      "metadata": {
        "id": "pwUhQuO59Ww7",
        "colab_type": "code",
        "colab": {
          "base_uri": "https://localhost:8080/",
          "height": 305
        },
        "outputId": "e1f27e85-681f-44da-c236-b89b9f448d6d"
      },
      "source": [
        "[(state, stack.copy()) for state, stack in dpda.validate_input('aaaaabbbbbaaaaa', step=True)]"
      ],
      "execution_count": 11,
      "outputs": [
        {
          "output_type": "execute_result",
          "data": {
            "text/plain": [
              "[('qa', PDAStack(['Z'])),\n",
              " ('q0', PDAStack(['Z', 'x'])),\n",
              " ('q0', PDAStack(['Z', 'x', 'x'])),\n",
              " ('q0', PDAStack(['Z', 'x', 'x', 'x'])),\n",
              " ('q0', PDAStack(['Z', 'x', 'x', 'x', 'x'])),\n",
              " ('q0', PDAStack(['Z', 'x', 'x', 'x', 'x', 'x'])),\n",
              " ('q1', PDAStack(['Z', 'x', 'x', 'x', 'x', 'x'])),\n",
              " ('q1', PDAStack(['Z', 'x', 'x', 'x', 'x', 'x'])),\n",
              " ('q1', PDAStack(['Z', 'x', 'x', 'x', 'x', 'x'])),\n",
              " ('q1', PDAStack(['Z', 'x', 'x', 'x', 'x', 'x'])),\n",
              " ('q1', PDAStack(['Z', 'x', 'x', 'x', 'x', 'x'])),\n",
              " ('q2', PDAStack(['Z', 'x', 'x', 'x', 'x'])),\n",
              " ('q2', PDAStack(['Z', 'x', 'x', 'x'])),\n",
              " ('q2', PDAStack(['Z', 'x', 'x'])),\n",
              " ('q2', PDAStack(['Z', 'x'])),\n",
              " ('q3', PDAStack(['Z']))]"
            ]
          },
          "metadata": {
            "tags": []
          },
          "execution_count": 11
        }
      ]
    },
    {
      "cell_type": "markdown",
      "metadata": {
        "id": "dzoq227a9Ww_",
        "colab_type": "text"
      },
      "source": [
        "---\n",
        "## Ejercicio\n",
        "\n",
        "El siguiente autómata no requiere ser no determinista y tiene la forma $\\enspace L= \\{ \\space a^{n}b^{m}c^{l} \\space \\mid \\space n+m-l=0 \\enspace \\land \\enspace m,n \\gt 0 \\space \\}$. "
      ]
    },
    {
      "cell_type": "code",
      "metadata": {
        "id": "iXaiH8Hw9WxB",
        "colab_type": "code",
        "colab": {}
      },
      "source": [
        "from automata.pda.dpda import DPDA\n",
        "\n",
        "dpda = DPDA(\n",
        "    states={'qa','q0', 'q1', 'q2', 'q3'},\n",
        "    input_symbols={'a', 'b', 'c'},\n",
        "    stack_symbols={'x', 'Z'},\n",
        "    transitions={\n",
        "        ## Escriba aqui el código\n",
        "    },\n",
        "    initial_state='qa',\n",
        "    initial_stack_symbol='Z',\n",
        "    final_states={'q3'}\n",
        ")"
      ],
      "execution_count": 0,
      "outputs": []
    },
    {
      "cell_type": "code",
      "metadata": {
        "id": "DjKrOVPR9WxH",
        "colab_type": "code",
        "colab": {}
      },
      "source": [
        "print(dpda.validate_input('aaabbbcccccc') )"
      ],
      "execution_count": 0,
      "outputs": []
    },
    {
      "cell_type": "code",
      "metadata": {
        "id": "cCPUiP9B9WxM",
        "colab_type": "code",
        "colab": {}
      },
      "source": [
        "[(state, stack.copy()) for state, stack in dpda.validate_input('aaabbbcccccc', step=True)]"
      ],
      "execution_count": 0,
      "outputs": []
    },
    {
      "cell_type": "markdown",
      "metadata": {
        "id": "rw8tp6v89WxQ",
        "colab_type": "text"
      },
      "source": [
        "https://pypi.python.org/pypi/automata-lib/1.0.0.post4"
      ]
    }
  ]
}